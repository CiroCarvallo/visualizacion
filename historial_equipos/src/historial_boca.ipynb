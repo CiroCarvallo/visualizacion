{
 "cells": [
  {
   "cell_type": "code",
   "execution_count": 5,
   "metadata": {},
   "outputs": [],
   "source": [
    "import pandas as pd\n",
    "import numpy as np\n",
    "pd.set_option('display.notebook_repr_html',True)\n",
    "import matplotlib.pyplot as plt\n",
    "import seaborn as sns \n",
    "%matplotlib inline"
   ]
  },
  {
   "cell_type": "markdown",
   "metadata": {},
   "source": [
    "# Exploracion"
   ]
  },
  {
   "cell_type": "code",
   "execution_count": 6,
   "metadata": {},
   "outputs": [
    {
     "data": {
      "text/html": [
       "<div>\n",
       "<style scoped>\n",
       "    .dataframe tbody tr th:only-of-type {\n",
       "        vertical-align: middle;\n",
       "    }\n",
       "\n",
       "    .dataframe tbody tr th {\n",
       "        vertical-align: top;\n",
       "    }\n",
       "\n",
       "    .dataframe thead th {\n",
       "        text-align: right;\n",
       "    }\n",
       "</style>\n",
       "<table border=\"1\" class=\"dataframe\">\n",
       "  <thead>\n",
       "    <tr style=\"text-align: right;\">\n",
       "      <th></th>\n",
       "      <th>equipo</th>\n",
       "      <th>jugados</th>\n",
       "      <th>ganados</th>\n",
       "      <th>perdidos</th>\n",
       "      <th>empatados</th>\n",
       "      <th>diferencia</th>\n",
       "      <th>gf</th>\n",
       "      <th>gc</th>\n",
       "    </tr>\n",
       "  </thead>\n",
       "  <tbody>\n",
       "    <tr>\n",
       "      <th>0</th>\n",
       "      <td>River Plate</td>\n",
       "      <td>200</td>\n",
       "      <td>74</td>\n",
       "      <td>64</td>\n",
       "      <td>62</td>\n",
       "      <td>10</td>\n",
       "      <td>275</td>\n",
       "      <td>258</td>\n",
       "    </tr>\n",
       "    <tr>\n",
       "      <th>1</th>\n",
       "      <td>San Lorenzo</td>\n",
       "      <td>186</td>\n",
       "      <td>63</td>\n",
       "      <td>73</td>\n",
       "      <td>50</td>\n",
       "      <td>-10</td>\n",
       "      <td>252</td>\n",
       "      <td>264</td>\n",
       "    </tr>\n",
       "    <tr>\n",
       "      <th>2</th>\n",
       "      <td>Estudiantes (LP)</td>\n",
       "      <td>185</td>\n",
       "      <td>101</td>\n",
       "      <td>42</td>\n",
       "      <td>42</td>\n",
       "      <td>59</td>\n",
       "      <td>312</td>\n",
       "      <td>194</td>\n",
       "    </tr>\n",
       "    <tr>\n",
       "      <th>3</th>\n",
       "      <td>Independiente</td>\n",
       "      <td>184</td>\n",
       "      <td>69</td>\n",
       "      <td>61</td>\n",
       "      <td>54</td>\n",
       "      <td>8</td>\n",
       "      <td>268</td>\n",
       "      <td>256</td>\n",
       "    </tr>\n",
       "    <tr>\n",
       "      <th>4</th>\n",
       "      <td>Racing Club</td>\n",
       "      <td>168</td>\n",
       "      <td>79</td>\n",
       "      <td>49</td>\n",
       "      <td>40</td>\n",
       "      <td>30</td>\n",
       "      <td>267</td>\n",
       "      <td>200</td>\n",
       "    </tr>\n",
       "  </tbody>\n",
       "</table>\n",
       "</div>"
      ],
      "text/plain": [
       "             equipo  jugados  ganados  perdidos  empatados  diferencia   gf  \\\n",
       "0       River Plate      200       74        64         62          10  275   \n",
       "1       San Lorenzo      186       63        73         50         -10  252   \n",
       "2  Estudiantes (LP)      185      101        42         42          59  312   \n",
       "3     Independiente      184       69        61         54           8  268   \n",
       "4       Racing Club      168       79        49         40          30  267   \n",
       "\n",
       "    gc  \n",
       "0  258  \n",
       "1  264  \n",
       "2  194  \n",
       "3  256  \n",
       "4  200  "
      ]
     },
     "execution_count": 6,
     "metadata": {},
     "output_type": "execute_result"
    }
   ],
   "source": [
    "# lee los datos del historial de boca\n",
    "historial_boca=pd.read_csv('historial_equipos/historial_Boca%20Juniors')\n",
    "historial_boca.head()"
   ]
  },
  {
   "cell_type": "code",
   "execution_count": 7,
   "metadata": {},
   "outputs": [
    {
     "data": {
      "text/plain": [
       "0      True\n",
       "1      True\n",
       "2      True\n",
       "3      True\n",
       "4      True\n",
       "5      True\n",
       "6      True\n",
       "7      True\n",
       "8      True\n",
       "9      True\n",
       "10     True\n",
       "11     True\n",
       "12     True\n",
       "13     True\n",
       "14     True\n",
       "15     True\n",
       "16     True\n",
       "17     True\n",
       "18     True\n",
       "19     True\n",
       "20     True\n",
       "21     True\n",
       "22    False\n",
       "23    False\n",
       "24    False\n",
       "25    False\n",
       "26    False\n",
       "27    False\n",
       "28    False\n",
       "29    False\n",
       "      ...  \n",
       "46    False\n",
       "47    False\n",
       "48    False\n",
       "49    False\n",
       "50    False\n",
       "51    False\n",
       "52    False\n",
       "53    False\n",
       "54    False\n",
       "55    False\n",
       "56    False\n",
       "57    False\n",
       "58    False\n",
       "59    False\n",
       "60    False\n",
       "61    False\n",
       "62    False\n",
       "63    False\n",
       "64    False\n",
       "65    False\n",
       "66    False\n",
       "67    False\n",
       "68    False\n",
       "69    False\n",
       "70    False\n",
       "71    False\n",
       "72    False\n",
       "73    False\n",
       "74    False\n",
       "75    False\n",
       "Name: jugados, Length: 76, dtype: bool"
      ]
     },
     "execution_count": 7,
     "metadata": {},
     "output_type": "execute_result"
    }
   ],
   "source": [
    "#con que equipos jugo mas de 50 partidos\n",
    "historial_boca.jugados>50\n"
   ]
  },
  {
   "cell_type": "code",
   "execution_count": 8,
   "metadata": {},
   "outputs": [
    {
     "data": {
      "text/plain": [
       "22"
      ]
     },
     "execution_count": 8,
     "metadata": {},
     "output_type": "execute_result"
    }
   ],
   "source": [
    "#con cuantos equipos jugo mas de 50 partidos\n",
    "np.sum(historial_boca.jugados>50)"
   ]
  },
  {
   "cell_type": "code",
   "execution_count": 9,
   "metadata": {},
   "outputs": [
    {
     "data": {
      "text/plain": [
       "0.2894736842105263"
      ]
     },
     "execution_count": 9,
     "metadata": {},
     "output_type": "execute_result"
    }
   ],
   "source": [
    "#porcentaje de equipos con mas de 50 partidos jugados\n",
    "np.sum(historial_boca.jugados>50)/historial_boca.shape[0]"
   ]
  },
  {
   "cell_type": "code",
   "execution_count": 10,
   "metadata": {},
   "outputs": [
    {
     "data": {
      "text/plain": [
       "0.2894736842105263"
      ]
     },
     "execution_count": 10,
     "metadata": {},
     "output_type": "execute_result"
    }
   ],
   "source": [
    "#porcentaje de equipo con mas de 50 partidos jugados\n",
    "np.mean(historial_boca.jugados>50)\n"
   ]
  },
  {
   "cell_type": "code",
   "execution_count": 11,
   "metadata": {},
   "outputs": [
    {
     "data": {
      "text/html": [
       "<div>\n",
       "<style scoped>\n",
       "    .dataframe tbody tr th:only-of-type {\n",
       "        vertical-align: middle;\n",
       "    }\n",
       "\n",
       "    .dataframe tbody tr th {\n",
       "        vertical-align: top;\n",
       "    }\n",
       "\n",
       "    .dataframe thead th {\n",
       "        text-align: right;\n",
       "    }\n",
       "</style>\n",
       "<table border=\"1\" class=\"dataframe\">\n",
       "  <thead>\n",
       "    <tr style=\"text-align: right;\">\n",
       "      <th></th>\n",
       "      <th>equipo</th>\n",
       "      <th>jugados</th>\n",
       "      <th>ganados</th>\n",
       "      <th>perdidos</th>\n",
       "      <th>empatados</th>\n",
       "      <th>diferencia</th>\n",
       "      <th>gf</th>\n",
       "      <th>gc</th>\n",
       "    </tr>\n",
       "  </thead>\n",
       "  <tbody>\n",
       "    <tr>\n",
       "      <th>0</th>\n",
       "      <td>River Plate</td>\n",
       "      <td>200</td>\n",
       "      <td>74</td>\n",
       "      <td>64</td>\n",
       "      <td>62</td>\n",
       "      <td>10</td>\n",
       "      <td>275</td>\n",
       "      <td>258</td>\n",
       "    </tr>\n",
       "    <tr>\n",
       "      <th>1</th>\n",
       "      <td>San Lorenzo</td>\n",
       "      <td>186</td>\n",
       "      <td>63</td>\n",
       "      <td>73</td>\n",
       "      <td>50</td>\n",
       "      <td>-10</td>\n",
       "      <td>252</td>\n",
       "      <td>264</td>\n",
       "    </tr>\n",
       "    <tr>\n",
       "      <th>2</th>\n",
       "      <td>Estudiantes (LP)</td>\n",
       "      <td>185</td>\n",
       "      <td>101</td>\n",
       "      <td>42</td>\n",
       "      <td>42</td>\n",
       "      <td>59</td>\n",
       "      <td>312</td>\n",
       "      <td>194</td>\n",
       "    </tr>\n",
       "    <tr>\n",
       "      <th>3</th>\n",
       "      <td>Independiente</td>\n",
       "      <td>184</td>\n",
       "      <td>69</td>\n",
       "      <td>61</td>\n",
       "      <td>54</td>\n",
       "      <td>8</td>\n",
       "      <td>268</td>\n",
       "      <td>256</td>\n",
       "    </tr>\n",
       "    <tr>\n",
       "      <th>4</th>\n",
       "      <td>Racing Club</td>\n",
       "      <td>168</td>\n",
       "      <td>79</td>\n",
       "      <td>49</td>\n",
       "      <td>40</td>\n",
       "      <td>30</td>\n",
       "      <td>267</td>\n",
       "      <td>200</td>\n",
       "    </tr>\n",
       "    <tr>\n",
       "      <th>5</th>\n",
       "      <td>Velez</td>\n",
       "      <td>167</td>\n",
       "      <td>83</td>\n",
       "      <td>44</td>\n",
       "      <td>40</td>\n",
       "      <td>39</td>\n",
       "      <td>290</td>\n",
       "      <td>207</td>\n",
       "    </tr>\n",
       "    <tr>\n",
       "      <th>6</th>\n",
       "      <td>Newells</td>\n",
       "      <td>154</td>\n",
       "      <td>67</td>\n",
       "      <td>42</td>\n",
       "      <td>45</td>\n",
       "      <td>25</td>\n",
       "      <td>241</td>\n",
       "      <td>182</td>\n",
       "    </tr>\n",
       "    <tr>\n",
       "      <th>7</th>\n",
       "      <td>Rosario Central</td>\n",
       "      <td>153</td>\n",
       "      <td>68</td>\n",
       "      <td>48</td>\n",
       "      <td>37</td>\n",
       "      <td>20</td>\n",
       "      <td>237</td>\n",
       "      <td>197</td>\n",
       "    </tr>\n",
       "    <tr>\n",
       "      <th>8</th>\n",
       "      <td>Huracan</td>\n",
       "      <td>152</td>\n",
       "      <td>80</td>\n",
       "      <td>29</td>\n",
       "      <td>43</td>\n",
       "      <td>51</td>\n",
       "      <td>286</td>\n",
       "      <td>176</td>\n",
       "    </tr>\n",
       "    <tr>\n",
       "      <th>9</th>\n",
       "      <td>Gimnasia (LP)</td>\n",
       "      <td>145</td>\n",
       "      <td>79</td>\n",
       "      <td>31</td>\n",
       "      <td>35</td>\n",
       "      <td>48</td>\n",
       "      <td>275</td>\n",
       "      <td>156</td>\n",
       "    </tr>\n",
       "    <tr>\n",
       "      <th>10</th>\n",
       "      <td>Ferro</td>\n",
       "      <td>130</td>\n",
       "      <td>64</td>\n",
       "      <td>25</td>\n",
       "      <td>41</td>\n",
       "      <td>39</td>\n",
       "      <td>222</td>\n",
       "      <td>129</td>\n",
       "    </tr>\n",
       "    <tr>\n",
       "      <th>11</th>\n",
       "      <td>Argentinos</td>\n",
       "      <td>128</td>\n",
       "      <td>63</td>\n",
       "      <td>29</td>\n",
       "      <td>36</td>\n",
       "      <td>34</td>\n",
       "      <td>238</td>\n",
       "      <td>158</td>\n",
       "    </tr>\n",
       "    <tr>\n",
       "      <th>12</th>\n",
       "      <td>Lanus</td>\n",
       "      <td>127</td>\n",
       "      <td>69</td>\n",
       "      <td>21</td>\n",
       "      <td>37</td>\n",
       "      <td>48</td>\n",
       "      <td>274</td>\n",
       "      <td>142</td>\n",
       "    </tr>\n",
       "    <tr>\n",
       "      <th>14</th>\n",
       "      <td>Chacarita</td>\n",
       "      <td>110</td>\n",
       "      <td>68</td>\n",
       "      <td>16</td>\n",
       "      <td>26</td>\n",
       "      <td>52</td>\n",
       "      <td>238</td>\n",
       "      <td>118</td>\n",
       "    </tr>\n",
       "    <tr>\n",
       "      <th>15</th>\n",
       "      <td>Banfield</td>\n",
       "      <td>92</td>\n",
       "      <td>53</td>\n",
       "      <td>18</td>\n",
       "      <td>21</td>\n",
       "      <td>35</td>\n",
       "      <td>165</td>\n",
       "      <td>81</td>\n",
       "    </tr>\n",
       "  </tbody>\n",
       "</table>\n",
       "</div>"
      ],
      "text/plain": [
       "              equipo  jugados  ganados  perdidos  empatados  diferencia   gf  \\\n",
       "0        River Plate      200       74        64         62          10  275   \n",
       "1        San Lorenzo      186       63        73         50         -10  252   \n",
       "2   Estudiantes (LP)      185      101        42         42          59  312   \n",
       "3      Independiente      184       69        61         54           8  268   \n",
       "4        Racing Club      168       79        49         40          30  267   \n",
       "5              Velez      167       83        44         40          39  290   \n",
       "6            Newells      154       67        42         45          25  241   \n",
       "7    Rosario Central      153       68        48         37          20  237   \n",
       "8            Huracan      152       80        29         43          51  286   \n",
       "9      Gimnasia (LP)      145       79        31         35          48  275   \n",
       "10             Ferro      130       64        25         41          39  222   \n",
       "11        Argentinos      128       63        29         36          34  238   \n",
       "12             Lanus      127       69        21         37          48  274   \n",
       "14         Chacarita      110       68        16         26          52  238   \n",
       "15          Banfield       92       53        18         21          35  165   \n",
       "\n",
       "     gc  \n",
       "0   258  \n",
       "1   264  \n",
       "2   194  \n",
       "3   256  \n",
       "4   200  \n",
       "5   207  \n",
       "6   182  \n",
       "7   197  \n",
       "8   176  \n",
       "9   156  \n",
       "10  129  \n",
       "11  158  \n",
       "12  142  \n",
       "14  118  \n",
       "15   81  "
      ]
     },
     "execution_count": 11,
     "metadata": {},
     "output_type": "execute_result"
    }
   ],
   "source": [
    "# equipos con los que jugo mas de 50 partidos y gano mas de 50 \n",
    "historial_boca[(historial_boca.jugados>50) & (historial_boca.ganados>50)]"
   ]
  },
  {
   "cell_type": "code",
   "execution_count": 12,
   "metadata": {},
   "outputs": [
    {
     "data": {
      "text/plain": [
       "equipo        object\n",
       "jugados        int64\n",
       "ganados        int64\n",
       "perdidos       int64\n",
       "empatados      int64\n",
       "diferencia     int64\n",
       "gf             int64\n",
       "gc             int64\n",
       "dtype: object"
      ]
     },
     "execution_count": 12,
     "metadata": {},
     "output_type": "execute_result"
    }
   ],
   "source": [
    "historial_boca.dtypes"
   ]
  },
  {
   "cell_type": "markdown",
   "metadata": {},
   "source": [
    "# visualizacion"
   ]
  },
  {
   "cell_type": "code",
   "execution_count": 13,
   "metadata": {},
   "outputs": [
    {
     "data": {
      "text/plain": [
       "<matplotlib.axes._subplots.AxesSubplot at 0x7f3790edf908>"
      ]
     },
     "execution_count": 13,
     "metadata": {},
     "output_type": "execute_result"
    },
    {
     "data": {
      "image/png": "[encoded data removed]",
      "text/plain": [
       "<Figure size 432x288 with 1 Axes>"
      ]
     },
     "metadata": {},
     "output_type": "display_data"
    }
   ],
   "source": [
    "# grafico de barras de la cantidad de partidos ganados y perdidos por boca contra los principales equipos\n",
    "principales=historial_boca.head()\n",
    "principales.plot.bar(x='equipo',y=['ganados','perdidos'])"
   ]
  },
  {
   "cell_type": "code",
   "execution_count": 14,
   "metadata": {},
   "outputs": [
    {
     "data": {
      "image/png": "[encoded data removed]",
      "text/plain": [
       "<Figure size 432x288 with 2 Axes>"
      ]
     },
     "metadata": {},
     "output_type": "display_data"
    }
   ],
   "source": [
    "# el mismo grafico pero usando subplots\n",
    "\n",
    "ax=principales.plot.bar(x='equipo',y=['ganados','perdidos'],subplots=True)"
   ]
  },
  {
   "cell_type": "code",
   "execution_count": 21,
   "metadata": {},
   "outputs": [
    {
     "data": {
      "image/png": "[encoded data removed]",
      "text/plain": [
       "<Figure size 432x288 with 1 Axes>"
      ]
     },
     "metadata": {},
     "output_type": "display_data"
    }
   ],
   "source": [
    "# \n",
    "with sns.axes_style('whitegrid'):\n",
    "    x=np.linspace(0,80,80)\n",
    "    plt.plot(x,x,'r')\n",
    "    plt.scatter(historial_boca.perdidos,historial_boca.ganados,alpha=.5)\n",
    "    plt.xlim([0,80])\n",
    "    plt.ylim([0,110])\n",
    "    plt.xlabel('Perdidos')\n",
    "    plt.ylabel('Ganados')\n",
    "\n"
   ]
  },
  {
   "cell_type": "code",
   "execution_count": 16,
   "metadata": {},
   "outputs": [
    {
     "data": {
      "text/plain": [
       "<matplotlib.axes._subplots.AxesSubplot at 0x7f3790d2b320>"
      ]
     },
     "execution_count": 16,
     "metadata": {},
     "output_type": "execute_result"
    },
    {
     "data": {
      "image/png": "[encoded data removed]",
      "text/plain": [
       "<Figure size 432x288 with 1 Axes>"
      ]
     },
     "metadata": {},
     "output_type": "display_data"
    }
   ],
   "source": [
    "# grafico de los goles a favor y goles en contra\n",
    "principales.plot.bar(x='equipo',y=['gf','gc'])"
   ]
  },
  {
   "cell_type": "code",
   "execution_count": 17,
   "metadata": {},
   "outputs": [
    {
     "data": {
      "text/html": [
       "<div>\n",
       "<style scoped>\n",
       "    .dataframe tbody tr th:only-of-type {\n",
       "        vertical-align: middle;\n",
       "    }\n",
       "\n",
       "    .dataframe tbody tr th {\n",
       "        vertical-align: top;\n",
       "    }\n",
       "\n",
       "    .dataframe thead th {\n",
       "        text-align: right;\n",
       "    }\n",
       "</style>\n",
       "<table border=\"1\" class=\"dataframe\">\n",
       "  <thead>\n",
       "    <tr style=\"text-align: right;\">\n",
       "      <th></th>\n",
       "      <th>cantidad</th>\n",
       "    </tr>\n",
       "  </thead>\n",
       "  <tbody>\n",
       "    <tr>\n",
       "      <th>gf</th>\n",
       "      <td>5670</td>\n",
       "    </tr>\n",
       "    <tr>\n",
       "      <th>gc</th>\n",
       "      <td>3710</td>\n",
       "    </tr>\n",
       "  </tbody>\n",
       "</table>\n",
       "</div>"
      ],
      "text/plain": [
       "    cantidad\n",
       "gf      5670\n",
       "gc      3710"
      ]
     },
     "execution_count": 17,
     "metadata": {},
     "output_type": "execute_result"
    }
   ],
   "source": [
    "# ¿cuantos goles mete boca y cuantos le meten?\n",
    "\n",
    "x=[historial_boca['gf'].sum(),historial_boca['gc'].sum()]\n",
    "goles=pd.DataFrame({'cantidad':x},index=['gf','gc'])\n",
    "goles"
   ]
  },
  {
   "cell_type": "code",
   "execution_count": 18,
   "metadata": {},
   "outputs": [
    {
     "data": {
      "text/plain": [
       "<matplotlib.axes._subplots.AxesSubplot at 0x7f3790c98ef0>"
      ]
     },
     "execution_count": 18,
     "metadata": {},
     "output_type": "execute_result"
    },
    {
     "data": {
      "image/png": "[encoded data removed]",
      "text/plain": [
       "<Figure size 360x360 with 1 Axes>"
      ]
     },
     "metadata": {},
     "output_type": "display_data"
    }
   ],
   "source": [
    "goles.plot.pie(y='cantidad',figsize=(5,5))"
   ]
  },
  {
   "cell_type": "code",
   "execution_count": 19,
   "metadata": {},
   "outputs": [
    {
     "data": {
      "text/html": [
       "<div>\n",
       "<style scoped>\n",
       "    .dataframe tbody tr th:only-of-type {\n",
       "        vertical-align: middle;\n",
       "    }\n",
       "\n",
       "    .dataframe tbody tr th {\n",
       "        vertical-align: top;\n",
       "    }\n",
       "\n",
       "    .dataframe thead th {\n",
       "        text-align: right;\n",
       "    }\n",
       "</style>\n",
       "<table border=\"1\" class=\"dataframe\">\n",
       "  <thead>\n",
       "    <tr style=\"text-align: right;\">\n",
       "      <th></th>\n",
       "      <th>partidos</th>\n",
       "    </tr>\n",
       "  </thead>\n",
       "  <tbody>\n",
       "    <tr>\n",
       "      <th>ganados</th>\n",
       "      <td>1615</td>\n",
       "    </tr>\n",
       "    <tr>\n",
       "      <th>perdidos</th>\n",
       "      <td>779</td>\n",
       "    </tr>\n",
       "    <tr>\n",
       "      <th>empatados</th>\n",
       "      <td>872</td>\n",
       "    </tr>\n",
       "  </tbody>\n",
       "</table>\n",
       "</div>"
      ],
      "text/plain": [
       "           partidos\n",
       "ganados        1615\n",
       "perdidos        779\n",
       "empatados       872"
      ]
     },
     "execution_count": 19,
     "metadata": {},
     "output_type": "execute_result"
    }
   ],
   "source": [
    "#cuantos partidos gano,perdio,empato\n",
    "\n",
    "x=[historial_boca['ganados'].sum(),historial_boca['perdidos'].sum(),historial_boca['empatados'].sum()]\n",
    "total=pd.DataFrame({'partidos':x},index=['ganados','perdidos','empatados'])\n",
    "total"
   ]
  },
  {
   "cell_type": "code",
   "execution_count": 20,
   "metadata": {},
   "outputs": [
    {
     "data": {
      "text/plain": [
       "<matplotlib.axes._subplots.AxesSubplot at 0x7f3790c63eb8>"
      ]
     },
     "execution_count": 20,
     "metadata": {},
     "output_type": "execute_result"
    },
    {
     "data": {
      "image/png": "[encoded data removed]",
      "text/plain": [
       "<Figure size 360x360 with 1 Axes>"
      ]
     },
     "metadata": {},
     "output_type": "display_data"
    }
   ],
   "source": [
    "total.plot.pie(y='partidos',figsize=(5,5))"
   ]
  }
 ],
 "metadata": {
  "kernelspec": {
   "display_name": "Python 3",
   "language": "python",
   "name": "python3"
  },
  "language_info": {
   "codemirror_mode": {
    "name": "ipython",
    "version": 3
   },
   "file_extension": ".py",
   "mimetype": "text/x-python",
   "name": "python",
   "nbconvert_exporter": "python",
   "pygments_lexer": "ipython3",
   "version": "3.6.5"
  }
 },
 "nbformat": 4,
 "nbformat_minor": 2
}
